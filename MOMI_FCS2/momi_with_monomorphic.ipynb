{
 "cells": [
  {
   "cell_type": "code",
   "execution_count": 1,
   "metadata": {},
   "outputs": [
    {
     "name": "stderr",
     "output_type": "stream",
     "text": [
      "/Users/kprovost/anaconda/envs/py36/lib/python3.6/site-packages/h5py/__init__.py:36: FutureWarning: Conversion of the second argument of issubdtype from `float` to `np.floating` is deprecated. In future, it will be treated as `np.float64 == np.dtype(float).type`.\n",
      "  from ._conv import register_converters as _register_converters\n"
     ]
    }
   ],
   "source": [
    "## import momi and start logging\n",
    "\n",
    "## FYI: there are 9,682,514 bases of which 362,001 have snps \n",
    "## Isaac: can use the SFS from previous steps and then change length parameter from 300000 to 9000000 etc\n",
    "\n",
    "%matplotlib inline\n",
    "import momi\t\t## momi2 analysis\n",
    "import logging\t\t## create log file\n",
    "\n",
    "logging.basicConfig(level=logging.INFO,\n",
    "                    filename=\"momi_mono_log.txt\")"
   ]
  },
  {
   "cell_type": "code",
   "execution_count": 2,
   "metadata": {},
   "outputs": [
    {
     "name": "stdout",
     "output_type": "stream",
     "text": [
      "\n",
      "##fileformat=VCFv4.1\n",
      "##fileDate=20180724\n",
      "##source=ipyRAD.v.klptesting\n",
      "##reference=common_allele_at_each_locus\n",
      "##INFO=<ID=NS,Number=1,Type=Integer,Description=\"Number of Samples With Data\">\n",
      "##INFO=<ID=DP,Number=1,Type=Integer,Description=\"Total Depth\">\n",
      "##INFO=<ID=AF,Number=A,Type=Float,Description=\"Allele Frequency\">\n",
      "##INFO=<ID=AA,Number=1,Type=String,Description=\"Ancestral Allele\">\n",
      "##FORMAT=<ID=GT,Number=1,Type=String,Description=\"Genotype\">\n",
      "##FORMAT=<ID=GQ,Number=1,Type=Integer,Description=\"Genotype Quality\">\n",
      "\n",
      "cardcard16_monomorphic.bed\n",
      "cardcard16_monomorphic.vcf\n",
      "cardcard16_monomorphic.vcf.gz\n",
      "cardcard16_monomorphic.vcf.gz.tbi\n",
      "fsc_popassignments.txt\n",
      "ipyrad_log.txt\n"
     ]
    },
    {
     "name": "stderr",
     "output_type": "stream",
     "text": [
      "cat: fsc_popassignments_smallmono2-3.txt: No such file or directory\n"
     ]
    }
   ],
   "source": [
    "%%bash\n",
    "\n",
    "cd /Users/kprovost/Downloads/outfiles_allgroup/cardcard_files2/\n",
    "\n",
    "## upload the population assignments\n",
    "#cat /Users/kprovost/Documents/Dissertation/fsc_popassignments.txt\n",
    "cat fsc_popassignments_smallmono2-3.txt\n",
    "echo\n",
    "\n",
    "## format the vcf file properly\n",
    "head cardcard16_monomorphic.vcf\n",
    "## bgzip performs a blockwise compression\n",
    "## The -c flag directs bgzip to leave the original vcf file \n",
    "##   untouched and create a new file for the vcf.gz\n",
    "bgzip -c cardcard16_monomorphic.vcf > cardcard16_monomorphic.vcf.gz\n",
    "\n",
    "## tabix indexes the file for searching\n",
    "tabix cardcard16_monomorphic.vcf.gz\n",
    "echo\n",
    "ls /Users/kprovost/Downloads/outfiles_allgroup/cardcard_files2/"
   ]
  },
  {
   "cell_type": "code",
   "execution_count": 3,
   "metadata": {
    "scrolled": true
   },
   "outputs": [
    {
     "name": "stdout",
     "output_type": "stream",
     "text": [
      "1\t0\t1\t.\t20\tC\t.\tPASS\tNS=7;DP=6\tGT\t./.\t./.\t./.\t./.\t./.\t./.\t./.\t./.\t./.\t./.\t./.\t./.\t./.\t./.\t./.\t./.\t./.\t./.\t./.\t./.\t0|0\t./.\t./.\t./.\t./.\t./.\t./.\t./.\t./.\t./.\t./.\t./.\t./.\t0|0\t./.\t./.\t./.\t./.\t./.\t./.\t./.\t./.\t./.\t./.\t./.\t./.\t./.\t./.\t./.\t./.\t./.\t./.\t./.\t./.\t./.\t./.\t./.\t./.\t./.\t./.\t./.\t./.\t./.\t./.\t./.\t./.\t./.\t./.\t./.\t./.\t./.\t./.\t0|0\t./.\t./.\t0|0\t./.\t./.\t0|0\t./.\t0|0\t./.\t./.\t./.\t./.\t0|0\t./.\t./.\n"
     ]
    }
   ],
   "source": [
    "%%bash\n",
    "## create a bed file\n",
    "cd /Users/kprovost/Downloads/outfiles_allgroup/cardcard_files2/\n",
    "vcf2bed --do-not-split --do-not-sort < cardcard16_monomorphic.vcf > cardcard16_monomorphic.bed\n",
    "## Print the first 1 lines of this file\n",
    "head -n 1 cardcard16_monomorphic.bed"
   ]
  },
  {
   "cell_type": "code",
   "execution_count": null,
   "metadata": {
    "scrolled": true
   },
   "outputs": [],
   "source": [
    "%%bash\n",
    "## import the bed file into momi\n",
    "cd /Users/kprovost/Downloads/outfiles_allgroup/cardcard_files2/\n",
    "\n",
    "## try no_aa flag if not work\n",
    "#python -m momi.read_vcf --no_aa cardcard16_smallmono3.vcf.gz fsc_popassignments.txt cardcard16_allele_counts_smallmono3.txt --bed cardcard16_smallmono3.bed\n",
    "python -m momi.read_vcf cardcard16_monomorphic.vcf.gz fsc_popassignments.txt cardcard16_allele_counts_monomorphic.txt --bed cardcard16_monomorphic.bed"
   ]
  },
  {
   "cell_type": "code",
   "execution_count": null,
   "metadata": {},
   "outputs": [],
   "source": [
    "%%bash\n",
    "## convert the vcf into a sfs\n",
    "cd /Users/kprovost/Downloads/outfiles_allgroup/cardcard_files2/\n",
    "python -m momi.extract_sfs cardcard16_sfs_monomorphic.txt 20 cardcard16_allele_counts_monomorphic.txt"
   ]
  },
  {
   "cell_type": "code",
   "execution_count": null,
   "metadata": {},
   "outputs": [],
   "source": [
    "sfs = momi.Sfs.load(\"/Users/kprovost/Downloads/outfiles_allgroup/cardcard_files2/cardcard16_sfs_monomorphic.txt\")\n",
    "print(\"Avg pairwise heterozygosity\", sfs.avg_pairwise_hets[:5])\n",
    "print(\"populations\", sfs.populations)\n",
    "print(\"percent missing data per population\", sfs.p_missing)"
   ]
  },
  {
   "cell_type": "code",
   "execution_count": null,
   "metadata": {},
   "outputs": [],
   "source": []
  }
 ],
 "metadata": {
  "kernelspec": {
   "display_name": "Python 3",
   "language": "python",
   "name": "python3"
  },
  "language_info": {
   "codemirror_mode": {
    "name": "ipython",
    "version": 3
   },
   "file_extension": ".py",
   "mimetype": "text/x-python",
   "name": "python",
   "nbconvert_exporter": "python",
   "pygments_lexer": "ipython3",
   "version": "3.6.6"
  }
 },
 "nbformat": 4,
 "nbformat_minor": 2
}
