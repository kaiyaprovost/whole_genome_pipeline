{
 "cells": [
  {
   "cell_type": "code",
   "execution_count": 2,
   "metadata": {},
   "outputs": [],
   "source": [
    "import momi        ## momi2 analysis\n",
    "import logging        ## create log file\n",
    "import numpy as np\n",
    "import datetime\n",
    "import matplotlib as plt"
   ]
  },
  {
   "cell_type": "code",
   "execution_count": 3,
   "metadata": {},
   "outputs": [
    {
     "name": "stdout",
     "output_type": "stream",
     "text": [
      "-----\n",
      "-----\n",
      "-----\n",
      "start logging\n",
      "\n"
     ]
    }
   ],
   "source": [
    "print(\"-----\\n-----\\n-----\")\n",
    "\n",
    "print(\"start logging\\n\")\n",
    "logging.basicConfig(level=logging.INFO,\n",
    "                    filename=\"momi_log_redo.txt\")\n"
   ]
  },
  {
   "cell_type": "code",
   "execution_count": 4,
   "metadata": {},
   "outputs": [
    {
     "name": "stdout",
     "output_type": "stream",
     "text": [
      "load sfs\n",
      "\n"
     ]
    }
   ],
   "source": [
    "print(\"load sfs\\n\")\n",
    "## sfspath = \"/home/kprovost/nas1/momi2/cardcard16_sfs_filtered_changelength_monomorphic.txt\"\n",
    "sfspath = \"/Users/kprovost/Downloads/outfiles_allgroup/cardcard_files2/cardcard16_sfs_filtered_changelength_monomorphic.txt\"\n",
    "## this is a two-population sfs with monomorphic sites included in \"length\"\n",
    "sfs = momi.Sfs.load(sfspath)\n",
    "#print(\"Avg pairwise heterozygosity\", sfs.avg_pairwise_hets[:5])\n",
    "#print(\"populations\", sfs.populations)\n",
    "#print(\"percent missing data per population\", sfs.p_missing)"
   ]
  },
  {
   "cell_type": "code",
   "execution_count": 8,
   "metadata": {},
   "outputs": [
    {
     "name": "stdout",
     "output_type": "stream",
     "text": [
      "\n",
      "PRIORS\n",
      "MUT RATE: 2.21e-9\n",
      "ANCESTRAL NE: 300,000\n",
      "GEN TIME: 1\n",
      "DIV TIME RANGE: 500,000 to 2,500,000\n",
      "NE RANGE: 1,000 to 2,000,000\n",
      "MIGRATION RANGE: 0 to 0.5\n",
      "MIGRATION DATE RANGE: 0 to 1,000,000 [25,000 for SECC model]\n",
      "\n",
      "\n",
      "begin setting up models\n",
      "\n",
      "\n",
      "Pure Isolation model (base model)\n",
      "ParamsDict({'tdiv_sc': 825281.8169409471, 'ne_s': 604108.3284458731, 'ne_c': 467006.51789799466})\n"
     ]
    }
   ],
   "source": [
    "print(\"\\nPRIORS\")\n",
    "print(\"MUT RATE: 2.21e-9\")\n",
    "print(\"ANCESTRAL NE: 300,000\")\n",
    "print(\"GEN TIME: 1\")\n",
    "print(\"DIV TIME RANGE: 500,000 to 2,500,000\")\n",
    "print(\"NE RANGE: 1,000 to 2,000,000\")\n",
    "print(\"MIGRATION RANGE: 0 to 0.5\")\n",
    "print(\"MIGRATION DATE RANGE: 0 to 1,000,000 [25,000 for SECC model]\\n\\n\")\n",
    "\n",
    "\n",
    "print(\"begin setting up models\\n\")\n",
    "##### PURE ISOLATION MODEL #####\n",
    "print(\"\\nPure Isolation model (base model)\")\n",
    "pure_isolation_model = momi.DemographicModel(N_e=300000,muts_per_gen=2.21e-9,gen_time=1) ## why tho -- can you give it something?\n",
    "pure_isolation_model.set_data(sfs)\n",
    "## set up divergence times\n",
    "pure_isolation_model.add_time_param(\"tdiv_sc\",lower=500000,upper=2500000)\n",
    "## set up effective population size\n",
    "pure_isolation_model.add_size_param(\"ne_s\",lower=1000,upper=2000000) ## this is from Brian's paper on cardinals\n",
    "pure_isolation_model.add_size_param(\"ne_c\",lower=1000,upper=2000000) \n",
    "## set up populations and phylogeny\n",
    "pure_isolation_model.add_leaf(\"Son\",N=\"ne_s\")\n",
    "pure_isolation_model.add_leaf(\"Chi\",N=\"ne_c\")\n",
    "pure_isolation_model.move_lineages(\"Son\", \"Chi\", t=\"tdiv_sc\")\n",
    "## randomize parameters and check them\n",
    "\n",
    "pure_isolation_model.set_params(randomize=True)\n",
    "print(pure_isolation_model.get_params())\n"
   ]
  },
  {
   "cell_type": "code",
   "execution_count": 6,
   "metadata": {},
   "outputs": [
    {
     "data": {
      "image/png": "[encoded data removed]",
      "text/plain": [
       "<Figure size 432x576 with 2 Axes>"
      ]
     },
     "metadata": {},
     "output_type": "display_data"
    }
   ],
   "source": [
    "## check that the model is what you want \n",
    "yticks = [1e4, 2.5e4, 5e4, 7.5e4, 1e5, 2.5e5, 5e5, 7.5e5,1e6,3e6]\n",
    "fig = momi.DemographyPlot(\n",
    "\tpure_isolation_model, \n",
    "\t[\"Chi\",\"Son\"],\n",
    "\tfigsize=(6,8),\n",
    "\tmajor_yticks=yticks,\n",
    "\t#linthreshy=2.5e6\n",
    ")"
   ]
  },
  {
   "cell_type": "code",
   "execution_count": 7,
   "metadata": {},
   "outputs": [
    {
     "name": "stdout",
     "output_type": "stream",
     "text": [
      "ParamsDict({'tdiv_sc': 821390.62713735, 'ne_s': 248502.76684115434, 'ne_c': 483532.3131477909})\n"
     ]
    }
   ],
   "source": [
    "## STOCH OPT WITH SNPS\n",
    "## SNPS IS FASTER?\n",
    "\n",
    "pure_isolation_model.stochastic_optimize(num_iters=10, snps_per_minibatch=1000, save_to_checkpoint=\"momi_checkpoint_isol.txt\", svrg_epoch=-1)\n",
    "print(pure_isolation_model.get_params())\n",
    "\n"
   ]
  },
  {
   "cell_type": "code",
   "execution_count": 9,
   "metadata": {},
   "outputs": [
    {
     "name": "stdout",
     "output_type": "stream",
     "text": [
      "ParamsDict({'tdiv_sc': 1143684.9793702736, 'ne_s': 254084.13729224761, 'ne_c': 850194.6386909911})\n"
     ]
    }
   ],
   "source": [
    "## TRY STOCHASTIC OPTIMIZE\n",
    "## STILL FAST BUT NOT SO FAST\n",
    "\n",
    "pure_isolation_model.stochastic_optimize(num_iters=10, n_minibatches=5, save_to_checkpoint=\"momi_checkpoint_isol.txt\", svrg_epoch=-1)\n",
    "print(pure_isolation_model.get_params())\n"
   ]
  },
  {
   "cell_type": "code",
   "execution_count": null,
   "metadata": {},
   "outputs": [],
   "source": [
    "## TRY THE OPTIMIZE WITH THE OTHER MODEL FROM HERE\n",
    "\n",
    "\n",
    "pure_isolation_model.optimize(method=\"L-BFGS-B\")\n",
    "print(pure_isolation_model.get_params())\n"
   ]
  },
  {
   "cell_type": "code",
   "execution_count": 11,
   "metadata": {},
   "outputs": [
    {
     "name": "stdout",
     "output_type": "stream",
     "text": [
      "\n",
      "Asymmetric model (c2s as base)\n"
     ]
    }
   ],
   "source": [
    "##### ASYMMETRIC MIGRATION #####\n",
    "print(\"\\nAsymmetric model (c2s as base)\")\n",
    "asym_model = pure_isolation_model.copy() ## copy isol\n",
    "asym_model.add_pulse_param(\"mig_s2c\",lower=0,upper=0.1)\n",
    "asym_model.add_pulse_param(\"mig_c2s\",lower=0,upper=0.1)\n",
    "asym_model.add_time_param(\"tmig_asym\",lower=0,upper=1000000,upper_constraints=[\"tdiv_sc\"])\n",
    "asym_model.move_lineages(\"Chi\",\"Son\",t=\"tmig_asym\",p=\"mig_s2c\")\n",
    "asym_model.move_lineages(\"Son\",\"Chi\",t=\"tmig_asym\",p=\"mig_c2s\")\n",
    "## randomize and check parameters\n",
    "#asym_model.set_params(randomize=True)\n",
    "#print(asym_model.get_params())"
   ]
  },
  {
   "cell_type": "code",
   "execution_count": null,
   "metadata": {},
   "outputs": [
    {
     "name": "stdout",
     "output_type": "stream",
     "text": [
      "Stochastic optimizing ASYM model: 2018-08-16 16:10:51.113576\n"
     ]
    }
   ],
   "source": [
    "models = [asym_model]\n",
    "model_names = [\"ASYM\"]\n",
    "AICs = []\n",
    "count = 0\n",
    "for model in models:\n",
    "\tnow = datetime.datetime.now()\n",
    "\tname = str(model_names[count])\n",
    "\tprint(\"Stochastic optimizing \"+name+\" model: \"+str(now))\n",
    "\tmodel.stochastic_optimize(num_iters=10, snps_per_minibatch=1000, save_to_checkpoint=\"momi_checkpoint_isol.txt\", svrg_epoch=-1)\n",
    "\tnow = datetime.datetime.now()\n",
    "\tprint(\"Finished stochastic optimizing \"+name+\": \"+str(now))\n",
    "\tprint(\"Fully optimizing \"+name+\" model: \"+str(now))\n",
    "\tmodel.optimize(method=\"L-BFGS-B\")\n",
    "\tnow = datetime.datetime.now()\n",
    "\tprint(\"Finished fully optimizing \"+name+\": \"+str(now))\n",
    "\tprint(model.get_params())\n",
    "\tprint(\"Starting AIC likelihood for \"+name)\n",
    "\tlik = model.log_likelihood()\n",
    "\tnparams = len(model.get_params())\n",
    "\taic = 2*nparams - 2*lik\n",
    "\tprint(\"AIC {}\".format(aic))\n",
    "\tAICs.append(aic)\n",
    "\tcount += 1\n",
    "\tprint(\"-----\")\n",
    "\n",
    "minv = np.min(AICs)\n",
    "delta_aic = np.array(AICs) - minv\n",
    "print(\"Delta AIC per model: \", delta_aic)\n",
    "print(\"AIC weight per model: \", np.exp(-0.5 * delta_aic))"
   ]
  },
  {
   "cell_type": "code",
   "execution_count": null,
   "metadata": {},
   "outputs": [],
   "source": []
  }
 ],
 "metadata": {
  "kernelspec": {
   "display_name": "Python 3",
   "language": "python",
   "name": "python3"
  },
  "language_info": {
   "codemirror_mode": {
    "name": "ipython",
    "version": 3
   },
   "file_extension": ".py",
   "mimetype": "text/x-python",
   "name": "python",
   "nbconvert_exporter": "python",
   "pygments_lexer": "ipython3",
   "version": "3.6.6"
  }
 },
 "nbformat": 4,
 "nbformat_minor": 2
}
